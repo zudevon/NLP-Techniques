{
 "cells": [
  {
   "cell_type": "markdown",
   "id": "77301ebf",
   "metadata": {},
   "source": [
    "# Using text factorization in a sentiment analysis model"
   ]
  },
  {
   "cell_type": "markdown",
   "id": "e278dd4a",
   "metadata": {},
   "source": [
    "data downloaded from https://oreil.ly/tfjoP"
   ]
  },
  {
   "cell_type": "code",
   "execution_count": 1,
   "id": "9ac0c0fa",
   "metadata": {},
   "outputs": [
    {
     "data": {
      "text/html": [
       "<div>\n",
       "<style scoped>\n",
       "    .dataframe tbody tr th:only-of-type {\n",
       "        vertical-align: middle;\n",
       "    }\n",
       "\n",
       "    .dataframe tbody tr th {\n",
       "        vertical-align: top;\n",
       "    }\n",
       "\n",
       "    .dataframe thead th {\n",
       "        text-align: right;\n",
       "    }\n",
       "</style>\n",
       "<table border=\"1\" class=\"dataframe\">\n",
       "  <thead>\n",
       "    <tr style=\"text-align: right;\">\n",
       "      <th></th>\n",
       "      <th>Text</th>\n",
       "      <th>Sentiment</th>\n",
       "    </tr>\n",
       "  </thead>\n",
       "  <tbody>\n",
       "    <tr>\n",
       "      <th>11841</th>\n",
       "      <td>Al Pacino was once an actor capable of making ...</td>\n",
       "      <td>0</td>\n",
       "    </tr>\n",
       "    <tr>\n",
       "      <th>19602</th>\n",
       "      <td>After Chaplin made one of his best films: Doug...</td>\n",
       "      <td>0</td>\n",
       "    </tr>\n",
       "    <tr>\n",
       "      <th>45519</th>\n",
       "      <td>This movie is sort of a Carrie meets Heavy Met...</td>\n",
       "      <td>1</td>\n",
       "    </tr>\n",
       "    <tr>\n",
       "      <th>25747</th>\n",
       "      <td>I have fond memories of watching this visually...</td>\n",
       "      <td>1</td>\n",
       "    </tr>\n",
       "    <tr>\n",
       "      <th>42642</th>\n",
       "      <td>In the '70s, Charlton Heston starred in sci-fi...</td>\n",
       "      <td>1</td>\n",
       "    </tr>\n",
       "  </tbody>\n",
       "</table>\n",
       "</div>"
      ],
      "text/plain": [
       "                                                    Text  Sentiment\n",
       "11841  Al Pacino was once an actor capable of making ...          0\n",
       "19602  After Chaplin made one of his best films: Doug...          0\n",
       "45519  This movie is sort of a Carrie meets Heavy Met...          1\n",
       "25747  I have fond memories of watching this visually...          1\n",
       "42642  In the '70s, Charlton Heston starred in sci-fi...          1"
      ]
     },
     "execution_count": 1,
     "metadata": {},
     "output_type": "execute_result"
    }
   ],
   "source": [
    "import pandas as pd\n",
    "\n",
    "df = pd.read_csv('../Data/reviews.csv', encoding=\"ISO-8859-1\")\n",
    "df = df.sample(frac=1, random_state=0)\n",
    "df.head()"
   ]
  },
  {
   "cell_type": "code",
   "execution_count": 2,
   "id": "a5659283",
   "metadata": {},
   "outputs": [
    {
     "data": {
      "text/html": [
       "<div>\n",
       "<style scoped>\n",
       "    .dataframe tbody tr th:only-of-type {\n",
       "        vertical-align: middle;\n",
       "    }\n",
       "\n",
       "    .dataframe tbody tr th {\n",
       "        vertical-align: top;\n",
       "    }\n",
       "\n",
       "    .dataframe thead tr th {\n",
       "        text-align: left;\n",
       "    }\n",
       "\n",
       "    .dataframe thead tr:last-of-type th {\n",
       "        text-align: right;\n",
       "    }\n",
       "</style>\n",
       "<table border=\"1\" class=\"dataframe\">\n",
       "  <thead>\n",
       "    <tr>\n",
       "      <th></th>\n",
       "      <th colspan=\"4\" halign=\"left\">Text</th>\n",
       "    </tr>\n",
       "    <tr>\n",
       "      <th></th>\n",
       "      <th>count</th>\n",
       "      <th>unique</th>\n",
       "      <th>top</th>\n",
       "      <th>freq</th>\n",
       "    </tr>\n",
       "    <tr>\n",
       "      <th>Sentiment</th>\n",
       "      <th></th>\n",
       "      <th></th>\n",
       "      <th></th>\n",
       "      <th></th>\n",
       "    </tr>\n",
       "  </thead>\n",
       "  <tbody>\n",
       "    <tr>\n",
       "      <th>0</th>\n",
       "      <td>24697</td>\n",
       "      <td>24697</td>\n",
       "      <td>Al Pacino was once an actor capable of making ...</td>\n",
       "      <td>1</td>\n",
       "    </tr>\n",
       "    <tr>\n",
       "      <th>1</th>\n",
       "      <td>24884</td>\n",
       "      <td>24884</td>\n",
       "      <td>This movie is sort of a Carrie meets Heavy Met...</td>\n",
       "      <td>1</td>\n",
       "    </tr>\n",
       "  </tbody>\n",
       "</table>\n",
       "</div>"
      ],
      "text/plain": [
       "            Text                                                            \\\n",
       "           count unique                                                top   \n",
       "Sentiment                                                                    \n",
       "0          24697  24697  Al Pacino was once an actor capable of making ...   \n",
       "1          24884  24884  This movie is sort of a Carrie meets Heavy Met...   \n",
       "\n",
       "                \n",
       "          freq  \n",
       "Sentiment       \n",
       "0            1  \n",
       "1            1  "
      ]
     },
     "execution_count": 2,
     "metadata": {},
     "output_type": "execute_result"
    }
   ],
   "source": [
    "df = df.drop_duplicates()\n",
    "df.groupby('Sentiment').describe()"
   ]
  },
  {
   "cell_type": "code",
   "execution_count": 16,
   "id": "15b89e0a",
   "metadata": {},
   "outputs": [
    {
     "name": "stdout",
     "output_type": "stream",
     "text": [
      "Epoch 1/15\n",
      "\u001b[1m98/98\u001b[0m \u001b[32m━━━━━━━━━━━━━━━━━━━━\u001b[0m\u001b[37m\u001b[0m \u001b[1m2s\u001b[0m 14ms/step - accuracy: 0.5489 - loss: 0.6846 - val_accuracy: 0.7142 - val_loss: 0.6501\n",
      "Epoch 2/15\n",
      "\u001b[1m98/98\u001b[0m \u001b[32m━━━━━━━━━━━━━━━━━━━━\u001b[0m\u001b[37m\u001b[0m \u001b[1m1s\u001b[0m 14ms/step - accuracy: 0.7246 - loss: 0.5698 - val_accuracy: 0.8017 - val_loss: 0.4706\n",
      "Epoch 3/15\n",
      "\u001b[1m98/98\u001b[0m \u001b[32m━━━━━━━━━━━━━━━━━━━━\u001b[0m\u001b[37m\u001b[0m \u001b[1m1s\u001b[0m 14ms/step - accuracy: 0.8181 - loss: 0.4196 - val_accuracy: 0.8527 - val_loss: 0.3694\n",
      "Epoch 4/15\n",
      "\u001b[1m98/98\u001b[0m \u001b[32m━━━━━━━━━━━━━━━━━━━━\u001b[0m\u001b[37m\u001b[0m \u001b[1m1s\u001b[0m 14ms/step - accuracy: 0.8579 - loss: 0.3448 - val_accuracy: 0.8694 - val_loss: 0.3289\n",
      "Epoch 5/15\n",
      "\u001b[1m98/98\u001b[0m \u001b[32m━━━━━━━━━━━━━━━━━━━━\u001b[0m\u001b[37m\u001b[0m \u001b[1m1s\u001b[0m 14ms/step - accuracy: 0.8759 - loss: 0.3034 - val_accuracy: 0.8721 - val_loss: 0.3122\n",
      "Epoch 6/15\n",
      "\u001b[1m98/98\u001b[0m \u001b[32m━━━━━━━━━━━━━━━━━━━━\u001b[0m\u001b[37m\u001b[0m \u001b[1m1s\u001b[0m 14ms/step - accuracy: 0.8896 - loss: 0.2737 - val_accuracy: 0.8764 - val_loss: 0.3013\n",
      "Epoch 7/15\n",
      "\u001b[1m98/98\u001b[0m \u001b[32m━━━━━━━━━━━━━━━━━━━━\u001b[0m\u001b[37m\u001b[0m \u001b[1m1s\u001b[0m 14ms/step - accuracy: 0.9000 - loss: 0.2501 - val_accuracy: 0.8769 - val_loss: 0.2973\n",
      "Epoch 8/15\n",
      "\u001b[1m98/98\u001b[0m \u001b[32m━━━━━━━━━━━━━━━━━━━━\u001b[0m\u001b[37m\u001b[0m \u001b[1m1s\u001b[0m 14ms/step - accuracy: 0.9085 - loss: 0.2319 - val_accuracy: 0.8759 - val_loss: 0.2985\n",
      "Epoch 9/15\n",
      "\u001b[1m98/98\u001b[0m \u001b[32m━━━━━━━━━━━━━━━━━━━━\u001b[0m\u001b[37m\u001b[0m \u001b[1m1s\u001b[0m 14ms/step - accuracy: 0.9159 - loss: 0.2164 - val_accuracy: 0.8757 - val_loss: 0.3007\n",
      "Epoch 10/15\n",
      "\u001b[1m98/98\u001b[0m \u001b[32m━━━━━━━━━━━━━━━━━━━━\u001b[0m\u001b[37m\u001b[0m \u001b[1m1s\u001b[0m 14ms/step - accuracy: 0.9223 - loss: 0.2029 - val_accuracy: 0.8746 - val_loss: 0.3030\n",
      "Epoch 11/15\n",
      "\u001b[1m98/98\u001b[0m \u001b[32m━━━━━━━━━━━━━━━━━━━━\u001b[0m\u001b[37m\u001b[0m \u001b[1m1s\u001b[0m 14ms/step - accuracy: 0.9273 - loss: 0.1913 - val_accuracy: 0.8744 - val_loss: 0.3048\n",
      "Epoch 12/15\n",
      "\u001b[1m98/98\u001b[0m \u001b[32m━━━━━━━━━━━━━━━━━━━━\u001b[0m\u001b[37m\u001b[0m \u001b[1m1s\u001b[0m 14ms/step - accuracy: 0.9312 - loss: 0.1815 - val_accuracy: 0.8755 - val_loss: 0.3060\n",
      "Epoch 13/15\n",
      "\u001b[1m98/98\u001b[0m \u001b[32m━━━━━━━━━━━━━━━━━━━━\u001b[0m\u001b[37m\u001b[0m \u001b[1m1s\u001b[0m 14ms/step - accuracy: 0.9344 - loss: 0.1739 - val_accuracy: 0.8770 - val_loss: 0.3054\n",
      "Epoch 14/15\n",
      "\u001b[1m98/98\u001b[0m \u001b[32m━━━━━━━━━━━━━━━━━━━━\u001b[0m\u001b[37m\u001b[0m \u001b[1m1s\u001b[0m 14ms/step - accuracy: 0.9359 - loss: 0.1698 - val_accuracy: 0.8818 - val_loss: 0.2987\n",
      "Epoch 15/15\n",
      "\u001b[1m98/98\u001b[0m \u001b[32m━━━━━━━━━━━━━━━━━━━━\u001b[0m\u001b[37m\u001b[0m \u001b[1m1s\u001b[0m 15ms/step - accuracy: 0.9321 - loss: 0.1766 - val_accuracy: 0.8929 - val_loss: 0.2733\n"
     ]
    }
   ],
   "source": [
    "# from tensorflow.keras.models import Sequential, Input\n",
    "from tensorflow.keras import Sequential, Input, layers\n",
    "from tensorflow.keras.layers import TextVectorization, InputLayer\n",
    "from tensorflow.keras.layers import Dense, Flatten, Embedding\n",
    "import tensorflow as tf\n",
    "\n",
    "x_tf = tf.constant(df['Text'].fillna('').astype(str).tolist(), dtype=tf.string)\n",
    "x_tf = tf.reshape(x_tf, (-1, 1))                             # (N,1) tf.string\n",
    "y_tf = tf.constant(df['Sentiment'].astype('float32').to_numpy(), dtype=tf.float32)\n",
    "\n",
    "max_words, max_len = 20000, 500\n",
    "tv = layers.TextVectorization(max_tokens=max_words,\n",
    "                              output_sequence_length=max_len,\n",
    "                              standardize='lower_and_strip_punctuation')\n",
    "tv.adapt(x_tf) \n",
    "\n",
    "model = Sequential([\n",
    "    layers.Input(shape=(1,), dtype=tf.string),\n",
    "    tv,\n",
    "    layers.Embedding(max_words, 32),\n",
    "    layers.GlobalAveragePooling1D(),\n",
    "    layers.Dense(128, activation='relu'),\n",
    "    layers.Dense(1, activation='sigmoid'),\n",
    "])\n",
    "model.compile(loss='binary_crossentropy', optimizer='adam', metrics=['accuracy'])\n",
    "\n",
    "ds = tf.data.Dataset.from_tensor_slices((x_tf, y_tf)).batch(256).prefetch(tf.data.AUTOTUNE)\n",
    "val_batches = int(0.5 * len(df) / 256)\n",
    "val_ds = ds.take(val_batches)\n",
    "train_ds = ds.skip(val_batches)\n",
    "hist =model.fit(train_ds, validation_data=val_ds, epochs=15, batch_size=250)"
   ]
  },
  {
   "cell_type": "code",
   "execution_count": 17,
   "id": "0a1f2461",
   "metadata": {},
   "outputs": [
    {
     "data": {
      "text/plain": [
       "[]"
      ]
     },
     "execution_count": 17,
     "metadata": {},
     "output_type": "execute_result"
    },
    {
     "data": {
      "image/png": "[encoded data removed]",
      "text/plain": [
       "<Figure size 640x480 with 1 Axes>"
      ]
     },
     "metadata": {},
     "output_type": "display_data"
    }
   ],
   "source": [
    "import seaborn as sns\n",
    "import matplotlib.pyplot as plt\n",
    "%matplotlib inline\n",
    "sns.set()\n",
    "\n",
    "acc = hist.history['accuracy']\n",
    "val = hist.history['val_accuracy']\n",
    "epochs = range(1, len(acc) + 1)\n",
    "\n",
    "plt.plot(epochs, acc, '-', label='Training accuracy')\n",
    "plt.plot(epochs, val, ':', label='Validation accuracy')\n",
    "plt.title('Training and Validation Accuracy')\n",
    "plt.xlabel('Epoch')\n",
    "plt.ylabel('Accuracy')\n",
    "plt.legend(loc='lower right')\n",
    "plt.plot()"
   ]
  },
  {
   "cell_type": "markdown",
   "id": "237aa19d",
   "metadata": {},
   "source": [
    "Predict positive review"
   ]
  },
  {
   "cell_type": "code",
   "execution_count": 18,
   "id": "59455a3f",
   "metadata": {},
   "outputs": [
    {
     "name": "stdout",
     "output_type": "stream",
     "text": [
      "0.6544183 positive\n",
      "0.52162147 positive\n",
      "0.27279678 negative\n"
     ]
    }
   ],
   "source": [
    "def predict_(text: str):\n",
    "    x_new = tf.constant([text], dtype=tf.string)\n",
    "    x_new = tf.reshape(x_new, (1, 1))\n",
    "    prob = model.predict(x_new, verbose=0)[0, 0]\n",
    "    label = \"positive\" if prob >= 0.5 else \"negative\"\n",
    "    return prob, label\n",
    "\n",
    "p, lbl = predict_(\"I absolutely loved this product, super fast shipping!\")\n",
    "print(p, lbl)\n",
    "\n",
    "p, lbl = predict_(\"I absolutely hate this product, super late shipping!\")\n",
    "print(p, lbl)\n",
    "\n",
    "p, lbl = predict_(\"The long lines and poor customer service really turned me off.\")\n",
    "print(p, lbl)"
   ]
  },
  {
   "cell_type": "markdown",
   "id": "fcb6e674",
   "metadata": {},
   "source": [
    "Maybe more epochs could make this a little more accurate?"
   ]
  }
 ],
 "metadata": {
  "language_info": {
   "name": "python"
  }
 },
 "nbformat": 4,
 "nbformat_minor": 5
}
