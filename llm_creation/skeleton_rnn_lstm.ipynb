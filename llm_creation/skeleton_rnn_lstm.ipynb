{
 "cells": [
  {
   "cell_type": "code",
   "execution_count": null,
   "id": "40ba87ec",
   "metadata": {},
   "outputs": [],
   "source": [
    "from tensorflow.keras.models import Sequential\n",
    "from tensorflow.keras.layers import LSTM, Dense, Embedding, TextVectorization, InputLayer\n",
    "import tensorflow as tf\n",
    "\n",
    "max_words = 20000\n",
    "max_length = 500\n",
    "embedding_dim = 32\n",
    "\n",
    "model = Sequential()\n",
    "model.add(InputLayer(input_shape=(1,), dtype=tf.string))\n",
    "model.add(TextVectorization(max_tokens=max_words, output_sequence_length=max_length))\n",
    "model.add(Embedding(input_dim=vocab_size, output_dim=embedding_dim, input_length=max_length))\n",
    "model.add(LSTM(units=32)) # or 64\n",
    "model.add(Dense(1, activation='sigmoid'))\n",
    "\n",
    "model.compile(loss='binary_crossentropy', optimizer='adam', metrics=['accuracy'])\n",
    "\n",
    "model.summary()"
   ]
  }
 ],
 "metadata": {
  "language_info": {
   "name": "python"
  }
 },
 "nbformat": 4,
 "nbformat_minor": 5
}
